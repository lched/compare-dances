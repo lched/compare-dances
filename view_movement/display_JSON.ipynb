{
 "cells": [
  {
   "cell_type": "code",
   "execution_count": 9,
   "metadata": {},
   "outputs": [],
   "source": [
    "import json\n",
    "\n",
    "import cv2\n",
    "import pyzed.sl as sl\n",
    "import numpy as np\n",
    "from cv_viewer.utils import *"
   ]
  },
  {
   "cell_type": "code",
   "execution_count": 10,
   "metadata": {},
   "outputs": [],
   "source": [
    "file = \"../bodies.json\"\n",
    "with open(file, 'r') as fp:\n",
    "    motion_data = json.load(fp)"
   ]
  },
  {
   "cell_type": "code",
   "execution_count": 11,
   "metadata": {},
   "outputs": [],
   "source": [
    "# ----------------------------------------------------------------------\n",
    "#       2D VIEW\n",
    "# ----------------------------------------------------------------------\n",
    "def cvt(pt, scale):\n",
    "    \"\"\"\n",
    "    Function that scales point coordinates\n",
    "    \"\"\"\n",
    "    out = [pt[0] * scale[0], pt[1] * scale[1]]\n",
    "    return out\n",
    "\n",
    "\n",
    "def render_sk(left_display, img_scale, obj, color, BODY_BONES):\n",
    "    # Draw skeleton bones\n",
    "    for part in BODY_BONES:\n",
    "        kp_a = cvt(obj.keypoint_2d[part[0].value], img_scale)\n",
    "        kp_b = cvt(obj.keypoint_2d[part[1].value], img_scale)\n",
    "        # Check that the keypoints are inside the image\n",
    "        if (\n",
    "            kp_a[0] < left_display.shape[1]\n",
    "            and kp_a[1] < left_display.shape[0]\n",
    "            and kp_b[0] < left_display.shape[1]\n",
    "            and kp_b[1] < left_display.shape[0]\n",
    "            and kp_a[0] > 0\n",
    "            and kp_a[1] > 0\n",
    "            and kp_b[0] > 0\n",
    "            and kp_b[1] > 0\n",
    "        ):\n",
    "            cv2.line(\n",
    "                left_display,\n",
    "                (int(kp_a[0]), int(kp_a[1])),\n",
    "                (int(kp_b[0]), int(kp_b[1])),\n",
    "                color,\n",
    "                1,\n",
    "                cv2.LINE_AA,\n",
    "            )\n",
    "\n",
    "    # Skeleton joints\n",
    "    for kp in obj.keypoint_2d:\n",
    "        cv_kp = cvt(kp, img_scale)\n",
    "        if cv_kp[0] < left_display.shape[1] and cv_kp[1] < left_display.shape[0]:\n",
    "            cv2.circle(left_display, (int(cv_kp[0]), int(cv_kp[1])), 3, color, -1)\n",
    "\n",
    "\n",
    "def render_2D(left_display, img_scale, objects, body_format):\n",
    "    \"\"\"\n",
    "    Parameters\n",
    "        left_display (np.array): numpy array containing image data (image shape is for instance (720, 1280, 4))\n",
    "        img_scale (list[float]) (ex: [0.6666666666666666, 0.6666666666666666])\n",
    "        objects (list[sl.ObjectData])\n",
    "    \"\"\"\n",
    "    overlay = left_display.copy()\n",
    "\n",
    "    # Render skeleton joints and bones\n",
    "    for obj in objects:\n",
    "        if len(obj.keypoint_2d) > 0:\n",
    "            color = generate_color_id_u(obj.id)\n",
    "            if body_format == sl.BODY_FORMAT.BODY_18:\n",
    "                render_sk(left_display, img_scale, obj, color, sl.BODY_18_BONES)\n",
    "            elif body_format == sl.BODY_FORMAT.BODY_34:\n",
    "                render_sk(left_display, img_scale, obj, color, sl.BODY_34_BONES)\n",
    "            elif body_format == sl.BODY_FORMAT.BODY_38:\n",
    "                render_sk(left_display, img_scale, obj, color, sl.BODY_38_BONES)\n",
    "\n",
    "    cv2.addWeighted(left_display, 0.9, overlay, 0.1, 0.0, left_display)\n",
    "\n"
   ]
  },
  {
   "cell_type": "code",
   "execution_count": 12,
   "metadata": {},
   "outputs": [],
   "source": [
    "# Step 2: Mimic sl.Bodies and sl.BodyData\n",
    "class SimulatedBodyData:\n",
    "    def __init__(self, body_info):\n",
    "        self.id = body_info['id']\n",
    "        self.position = body_info['position']\n",
    "        self.bounding_box_2d = body_info['bounding_box_2d']\n",
    "        self.keypoints = body_info['keypoint']\n",
    "        self.keypoint_2d = body_info['keypoint_2d']\n",
    "        self.keypoint_confidences = body_info['keypoint_confidence']\n",
    "        self.tracking_state = body_info['tracking_state']\n",
    "\n",
    "class SimulatedBodies:\n",
    "    def __init__(self, data):\n",
    "        self.body_list = [SimulatedBodyData(body) for body in data.get('body_list', [])]"
   ]
  },
  {
   "cell_type": "markdown",
   "metadata": {},
   "source": [
    "Archived"
   ]
  },
  {
   "cell_type": "code",
   "execution_count": 13,
   "metadata": {},
   "outputs": [],
   "source": [
    "# for key, value in motion_data.items():\n",
    "#     bodies = SimulatedBodies(value)\n",
    "#     # Create a blank canvas for rendering\n",
    "#     frame_height, frame_width = 720, 1280  # Adjust as needed\n",
    "#     image = np.zeros((frame_height, frame_width, 3), dtype=np.uint8)\n",
    "\n",
    "#     # Define colors\n",
    "#     bbox_color = (0, 255, 0)  # Green\n",
    "#     keypoint_color = (0, 0, 255)  # Red\n",
    "#     keypoint_radius = 5\n",
    "\n",
    "#     # Draw each body in the body_list\n",
    "#     for body in bodies.body_list:\n",
    "#         # Draw bounding box\n",
    "#         # bbox_2d = body.bounding_box_2d\n",
    "#         # if bbox_2d:\n",
    "#         #     # Extract corners of the bounding box\n",
    "#         #     x1, y1 = map(int, bbox_2d[0])\n",
    "#         #     x2, y2 = map(int, bbox_2d[2])\n",
    "#         #     cv2.rectangle(image, (x1, y1), (x2, y2), bbox_color, 2)\n",
    "\n",
    "#         # Draw keypoints\n",
    "#         keypoints_2d = body.keypoints_2d\n",
    "#         confidences = body.keypoint_confidences\n",
    "#         for idx, keypoint in enumerate(keypoints_2d):\n",
    "#             x, y = map(int, keypoint)\n",
    "#             if x > 0 and y > 0 and confidences[idx] > 50:  # Filter valid keypoints with confidence > 50\n",
    "#                 cv2.circle(image, (x, y), keypoint_radius, keypoint_color, -1)\n",
    "\n",
    "#     # Display the result\n",
    "#     cv2.imshow('Frame Visualization', image)\n",
    "#     cv2.waitKey(0)\n",
    "#     cv2.destroyAllWindows()\n"
   ]
  },
  {
   "cell_type": "code",
   "execution_count": 19,
   "metadata": {},
   "outputs": [],
   "source": [
    "for key, value in motion_data.items():\n",
    "    bodies = SimulatedBodies(value)\n",
    "\n",
    "    # Create a blank canvas for rendering\n",
    "    frame_height, frame_width = 720, 1280  # Adjust as needed\n",
    "    image = np.zeros((frame_height, frame_width, 4), dtype=np.uint8)\n",
    "    img_scale = [2/3, 2/3]  # Adjust as needed\n",
    "\n",
    "    # Define colors\n",
    "    bbox_color = (0, 255, 0)  # Green\n",
    "    keypoint_color = (0, 0, 255)  # Red\n",
    "    keypoint_radius = 5\n",
    "\n",
    "    # Render the frame\n",
    "    render_2D(image, img_scale, bodies.body_list, sl.BODY_FORMAT.BODY_18)\n",
    "\n",
    "    # Display the result\n",
    "    cv2.imshow('Frame Visualization', image)\n",
    "\n",
    "    # Wait for ~30ms between frames (33ms = ~30 FPS)\n",
    "    if cv2.waitKey(17) & 0xFF == ord('q'):  # Press 'q' to quit the video\n",
    "        print(\"Exiting...\")\n",
    "        break\n",
    "\n",
    "cv2.destroyAllWindows()\n"
   ]
  },
  {
   "cell_type": "code",
   "execution_count": 15,
   "metadata": {},
   "outputs": [
    {
     "data": {
      "text/plain": [
       "[<__main__.SimulatedBodyData at 0x1967dd68a00>]"
      ]
     },
     "execution_count": 15,
     "metadata": {},
     "output_type": "execute_result"
    }
   ],
   "source": [
    "bodies.body_list"
   ]
  }
 ],
 "metadata": {
  "kernelspec": {
   "display_name": "zed",
   "language": "python",
   "name": "python3"
  },
  "language_info": {
   "codemirror_mode": {
    "name": "ipython",
    "version": 3
   },
   "file_extension": ".py",
   "mimetype": "text/x-python",
   "name": "python",
   "nbconvert_exporter": "python",
   "pygments_lexer": "ipython3",
   "version": "3.8.20"
  }
 },
 "nbformat": 4,
 "nbformat_minor": 2
}
