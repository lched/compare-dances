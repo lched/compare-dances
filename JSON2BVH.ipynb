{
 "cells": [
  {
   "cell_type": "code",
   "execution_count": 136,
   "metadata": {},
   "outputs": [],
   "source": [
    "import os\n",
    "import json\n",
    "\n",
    "import matplotlib.pyplot as plt\n",
    "import numpy as np\n",
    "from scipy.spatial.transform import Rotation as R\n",
    "\n",
    "from Motion.BVH import load, save\n",
    "from Motion.Animation import Animation\n",
    "from Motion.AnimationStructure import get_kinematic_chain\n",
    "from Motion.Quaternions import Quaternions\n",
    "from Motion.plot_script import plot_3d_motion\n",
    "\n",
    "from body_comparison_realtime.utils import BODY38_idx2name, BODY38_name2idx"
   ]
  },
  {
   "cell_type": "code",
   "execution_count": 137,
   "metadata": {},
   "outputs": [],
   "source": [
    "fname = \"BP_Mixamo_New10_Scene_1_18_0.json\"\n",
    "\n",
    "with open(fname, \"r\") as fp:\n",
    "    data = json.load(fp)"
   ]
  },
  {
   "cell_type": "code",
   "execution_count": 138,
   "metadata": {},
   "outputs": [
    {
     "ename": "IndexError",
     "evalue": "tuple index out of range",
     "output_type": "error",
     "traceback": [
      "\u001b[1;31m---------------------------------------------------------------------------\u001b[0m",
      "\u001b[1;31mIndexError\u001b[0m                                Traceback (most recent call last)",
      "\u001b[1;32m~\\AppData\\Local\\Temp\\ipykernel_7968\\588489656.py\u001b[0m in \u001b[0;36m<module>\u001b[1;34m\u001b[0m\n\u001b[0;32m      9\u001b[0m \u001b[1;31m# plt.plot(rotations.T)\u001b[0m\u001b[1;33m\u001b[0m\u001b[1;33m\u001b[0m\u001b[1;33m\u001b[0m\u001b[0m\n\u001b[0;32m     10\u001b[0m \u001b[1;31m# plt.show()\u001b[0m\u001b[1;33m\u001b[0m\u001b[1;33m\u001b[0m\u001b[1;33m\u001b[0m\u001b[0m\n\u001b[1;32m---> 11\u001b[1;33m \u001b[0mrotations\u001b[0m \u001b[1;33m=\u001b[0m \u001b[0mrotations\u001b[0m\u001b[1;33m.\u001b[0m\u001b[0mT\u001b[0m\u001b[1;33m.\u001b[0m\u001b[0mreshape\u001b[0m\u001b[1;33m(\u001b[0m\u001b[0mrotations\u001b[0m\u001b[1;33m.\u001b[0m\u001b[0mshape\u001b[0m\u001b[1;33m[\u001b[0m\u001b[1;36m1\u001b[0m\u001b[1;33m]\u001b[0m\u001b[1;33m,\u001b[0m \u001b[1;33m-\u001b[0m\u001b[1;36m1\u001b[0m\u001b[1;33m,\u001b[0m \u001b[1;36m3\u001b[0m\u001b[1;33m)\u001b[0m\u001b[1;33m\u001b[0m\u001b[1;33m\u001b[0m\u001b[0m\n\u001b[0m\u001b[0;32m     12\u001b[0m \u001b[1;33m\u001b[0m\u001b[0m\n\u001b[0;32m     13\u001b[0m \u001b[1;33m\u001b[0m\u001b[0m\n",
      "\u001b[1;31mIndexError\u001b[0m: tuple index out of range"
     ]
    }
   ],
   "source": [
    "rotations = []\n",
    "motion_data = data['motion_data']\n",
    "for key in motion_data.keys():\n",
    "    if key.endswith(\"RX\") or key.endswith(\"RY\") or key.endswith(\"RZ\"):\n",
    "        if motion_data[key]:\n",
    "            rotations.append(motion_data[key])\n",
    "rotations = np.array(rotations)\n",
    "# plt.figure()\n",
    "# plt.plot(rotations.T)\n",
    "# plt.show()\n",
    "rotations = rotations.T.reshape(rotations.shape[1], -1, 3)\n",
    "\n",
    "\n",
    "translations = []\n",
    "motion_data = data['motion_data']\n",
    "for key in motion_data.keys():\n",
    "    if key.endswith(\"TX\") or key.endswith(\"TY\") or key.endswith(\"TZ\"):\n",
    "        if motion_data[key]:\n",
    "            translations.append(motion_data[key])\n",
    "translations = np.array(translations)\n",
    "# offsets = 12*np.ones((rotations.shape[0], 3))\n",
    "offsets = translations[:, 0].reshape(-1, 3) /10\n",
    "translations = translations.T.reshape(translations.shape[1], -1, 3)\n",
    "\n",
    "orients = Quaternions(np.array([[1, 0, 0, 0] for _ in range(rotations.shape[0])]))"
   ]
  },
  {
   "cell_type": "code",
   "execution_count": 130,
   "metadata": {},
   "outputs": [],
   "source": [
    "new_anim = Animation(\n",
    "    Quaternions.from_euler(rotations, order=\"xyz\", world=False),\n",
    "    np.zeros_like(rotations),\n",
    "    orients,\n",
    "    offsets,\n",
    "    data[\"parents\"]\n",
    ")"
   ]
  },
  {
   "cell_type": "code",
   "execution_count": 131,
   "metadata": {},
   "outputs": [],
   "source": [
    "save(filename=\"test.bvh\", anim=new_anim, names=data[\"joints_names\"], frametime=1/20)"
   ]
  },
  {
   "cell_type": "code",
   "execution_count": 132,
   "metadata": {},
   "outputs": [],
   "source": [
    "# Initialize array to store 3D keypoints\n",
    "keypoints = []\n",
    "\n",
    "# Process each frame\n",
    "for frame_idx in range(rotations.shape[0]):\n",
    "    frame_keypoints = []  # Store keypoints for all joints in the current frame\n",
    "\n",
    "    # Process each joint\n",
    "    for joint_idx in range(rotations.shape[1]):\n",
    "        euler_angles = rotations[frame_idx, joint_idx]\n",
    "        translation = translations[frame_idx, joint_idx]\n",
    "\n",
    "        # Convert Euler angles to a rotation matrix\n",
    "        rotation_matrix = R.from_euler('xyz', euler_angles, degrees=True).as_matrix()\n",
    "\n",
    "        # Apply the rotation and translation to the origin (0, 0, 0)\n",
    "        keypoint = rotation_matrix @ np.array([0, 0, 0]) + translation\n",
    "\n",
    "        frame_keypoints.append(keypoint)\n",
    "\n",
    "    # Add all joint keypoints for the current frame\n",
    "    keypoints.append(frame_keypoints)\n",
    "\n",
    "# Convert to a numpy array for easy handling\n",
    "keypoints = np.array(keypoints)  # Shape: (frames, joints, 3)"
   ]
  },
  {
   "cell_type": "code",
   "execution_count": 133,
   "metadata": {},
   "outputs": [],
   "source": [
    "skeleton = get_kinematic_chain(data[\"parents\"])\n",
    "# plot_3d_motion(\"test_vis.mp4\", skeleton, keypoints[:200], title=\"Test viz\", fps=20)"
   ]
  }
 ],
 "metadata": {
  "kernelspec": {
   "display_name": "zed",
   "language": "python",
   "name": "python3"
  },
  "language_info": {
   "codemirror_mode": {
    "name": "ipython",
    "version": 3
   },
   "file_extension": ".py",
   "mimetype": "text/x-python",
   "name": "python",
   "nbconvert_exporter": "python",
   "pygments_lexer": "ipython3",
   "version": "3.7.12"
  }
 },
 "nbformat": 4,
 "nbformat_minor": 2
}
