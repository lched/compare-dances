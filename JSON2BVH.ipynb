{
 "cells": [
  {
   "cell_type": "code",
   "execution_count": 7,
   "metadata": {},
   "outputs": [],
   "source": [
    "import os\n",
    "import json\n",
    "\n",
    "import numpy as np\n",
    "from scipy.spatial.transform import Rotation as R\n",
    "\n",
    "from Motion.BVH import load, save\n",
    "from Motion.Animation import Animation\n",
    "from Motion.AnimationStructure import get_kinematic_chain\n",
    "from Motion.Quaternions import Quaternions\n",
    "from Motion.plot_script import plot_3d_motion\n",
    "\n",
    "from body_comparison_realtime.utils import BODY38_idx2name, BODY38_name2idx"
   ]
  },
  {
   "cell_type": "code",
   "execution_count": 8,
   "metadata": {},
   "outputs": [],
   "source": [
    "fname = \"BP_Mixamo_New10_Scene_1_16_0.json\"\n",
    "\n",
    "with open(fname, \"r\") as fp:\n",
    "    data = json.load(fp)"
   ]
  },
  {
   "cell_type": "code",
   "execution_count": 9,
   "metadata": {},
   "outputs": [],
   "source": [
    "rotations = []\n",
    "motion_data = data['motion_data']\n",
    "for key in motion_data.keys():\n",
    "    if key.endswith(\"RX\") or key.endswith(\"RY\") or key.endswith(\"RZ\"):\n",
    "        if motion_data[key]:\n",
    "            rotations.append(motion_data[key])\n",
    "rotations = np.array(rotations)\n",
    "rotations = rotations.T.reshape(rotations.shape[1], -1, 3)\n",
    "\n",
    "\n",
    "translations = []\n",
    "motion_data = data['motion_data']\n",
    "for key in motion_data.keys():\n",
    "    if key.endswith(\"TX\") or key.endswith(\"TY\") or key.endswith(\"TZ\"):\n",
    "        if motion_data[key]:\n",
    "            translations.append(motion_data[key])\n",
    "translations = np.array(translations)\n",
    "translations = translations.T.reshape(translations.shape[1], -1, 3)\n",
    "\n",
    "\n",
    "orients = Quaternions(np.array([[1, 0, 0, 0] for _ in range(rotations.shape[0])]))\n",
    "offsets = np.ones((rotations.shape[0], 3))"
   ]
  },
  {
   "cell_type": "code",
   "execution_count": 10,
   "metadata": {},
   "outputs": [],
   "source": [
    "new_anim = Animation(\n",
    "    Quaternions.from_euler(rotations, order=\"xyz\", world=False),\n",
    "    translations,\n",
    "    orients,\n",
    "    offsets,\n",
    "    data[\"parents\"]\n",
    ")"
   ]
  },
  {
   "cell_type": "code",
   "execution_count": 11,
   "metadata": {},
   "outputs": [
    {
     "name": "stdout",
     "output_type": "stream",
     "text": [
      "0 Hips\n",
      "1 Spine\n",
      "2 Spine1\n",
      "3 Spine2\n",
      "4 Neck\n",
      "5 Head\n",
      "6 HeadTop_End\n",
      "7 RightShoulder\n",
      "8 RightArm\n",
      "9 RightForeArm\n",
      "10 RightHand\n",
      "11 RightHandThumb1\n",
      "12 RightHandThumb2\n",
      "13 RightHandThumb3\n",
      "14 RightHandThumb4\n",
      "15 RightHandIndex1\n",
      "16 RightHandIndex2\n",
      "17 RightHandIndex3\n",
      "18 RightHandIndex4\n",
      "19 RightHandMiddle1\n",
      "20 RightHandMiddle2\n",
      "21 RightHandMiddle3\n",
      "22 RightHandMiddle4\n",
      "23 RightHandRing1\n",
      "24 RightHandRing2\n",
      "25 RightHandRing3\n",
      "26 RightHandRing4\n",
      "27 RightHandPinky1\n",
      "28 RightHandPinky2\n",
      "29 RightHandPinky3\n",
      "30 RightHandPinky4\n",
      "31 LeftShoulder\n",
      "32 LeftArm\n",
      "33 LeftForeArm\n",
      "34 LeftHand\n",
      "35 LeftHandThumb1\n",
      "36 LeftHandThumb2\n",
      "37 LeftHandThumb3\n",
      "38 LeftHandThumb4\n",
      "39 LeftHandIndex1\n",
      "40 LeftHandIndex2\n",
      "41 LeftHandIndex3\n",
      "42 LeftHandIndex4\n",
      "43 LeftHandMiddle1\n",
      "44 LeftHandMiddle2\n",
      "45 LeftHandMiddle3\n",
      "46 LeftHandMiddle4\n",
      "47 LeftHandRing1\n",
      "48 LeftHandRing2\n",
      "49 LeftHandRing3\n",
      "50 LeftHandRing4\n",
      "51 LeftHandPinky1\n",
      "52 LeftHandPinky2\n",
      "53 LeftHandPinky3\n",
      "54 LeftHandPinky4\n",
      "55 RightUpLeg\n",
      "56 RightLeg\n",
      "57 RightFoot\n",
      "58 RightToeBase\n",
      "59 RightToe_End\n",
      "60 LeftUpLeg\n",
      "61 LeftLeg\n",
      "62 LeftFoot\n",
      "63 LeftToeBase\n",
      "64 LeftToe_End\n"
     ]
    }
   ],
   "source": [
    "for i, name in enumerate(data[\"joints_names\"]):\n",
    "    print(i, name)"
   ]
  },
  {
   "cell_type": "code",
   "execution_count": 12,
   "metadata": {},
   "outputs": [],
   "source": [
    "save(filename=\"test.bvh\", anim=new_anim, names=data[\"joints_names\"], frametime=1/20)"
   ]
  },
  {
   "cell_type": "code",
   "execution_count": 13,
   "metadata": {},
   "outputs": [],
   "source": [
    "# Initialize array to store 3D keypoints\n",
    "keypoints = []\n",
    "\n",
    "# Process each frame\n",
    "for frame_idx in range(rotations.shape[0]):\n",
    "    frame_keypoints = []  # Store keypoints for all joints in the current frame\n",
    "\n",
    "    # Process each joint\n",
    "    for joint_idx in range(rotations.shape[1]):\n",
    "        euler_angles = rotations[frame_idx, joint_idx]\n",
    "        translation = translations[frame_idx, joint_idx]\n",
    "\n",
    "        # Convert Euler angles to a rotation matrix\n",
    "        rotation_matrix = R.from_euler('xyz', euler_angles, degrees=True).as_matrix()\n",
    "\n",
    "        # Apply the rotation and translation to the origin (0, 0, 0)\n",
    "        keypoint = rotation_matrix @ np.array([0, 0, 0]) + translation\n",
    "\n",
    "        frame_keypoints.append(keypoint)\n",
    "\n",
    "    # Add all joint keypoints for the current frame\n",
    "    keypoints.append(frame_keypoints)\n",
    "\n",
    "# Convert to a numpy array for easy handling\n",
    "keypoints = np.array(keypoints)  # Shape: (frames, joints, 3)"
   ]
  },
  {
   "cell_type": "code",
   "execution_count": 14,
   "metadata": {},
   "outputs": [],
   "source": [
    "skeleton = get_kinematic_chain(data[\"parents\"])"
   ]
  },
  {
   "cell_type": "code",
   "execution_count": null,
   "metadata": {},
   "outputs": [],
   "source": [
    "plot_3d_motion(\"test_vis.mp4\", skeleton, keypoints[:200], title=\"Test viz\", fps=20)"
   ]
  }
 ],
 "metadata": {
  "kernelspec": {
   "display_name": "zed",
   "language": "python",
   "name": "python3"
  },
  "language_info": {
   "codemirror_mode": {
    "name": "ipython",
    "version": 3
   },
   "file_extension": ".py",
   "mimetype": "text/x-python",
   "name": "python",
   "nbconvert_exporter": "python",
   "pygments_lexer": "ipython3",
   "version": "3.7.12"
  }
 },
 "nbformat": 4,
 "nbformat_minor": 2
}
