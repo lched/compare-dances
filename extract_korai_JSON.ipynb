{
 "cells": [
  {
   "cell_type": "code",
   "execution_count": 77,
   "metadata": {},
   "outputs": [],
   "source": [
    "import json\n",
    "\n",
    "import matplotlib.pyplot as plt\n",
    "import numpy as np"
   ]
  },
  {
   "cell_type": "code",
   "execution_count": 78,
   "metadata": {},
   "outputs": [],
   "source": [
    "with open(\"bodies.json\", \"r\") as fp:\n",
    "    zed_data = json.load(fp)\n",
    "\n",
    "valid_frames = []\n",
    "\n",
    "for key, value in zed_data.items():\n",
    "    if value['body_list']:\n",
    "        valid_frames.append(value)\n",
    "\n",
    "# COCO 18\n",
    "joints_name = [\n",
    "    \"NOSE\", \"NECK\", \"RIGHT_SHOULDER\", \"RIGHT_ELBOW\", \"RIGHT_WRIST\", \"LEFT_SHOULDER\", \"LEFT_ELBOW\", \"LEFT_WRIST\", \"RIGHT_HIP\", \"RIGHT_KNEE\", \"RIGHT_ANKLE\", \"LEFT_HIP\", \"LEFT_KNEE\", \"LEFT_ANKLE\", \"RIGHT_EYE\", \"LEFT_EYE\", \"RIGHT_EAR\", \"LEFT_EAR\"\n",
    "]\n",
    "parents = [1, -1, 1, 2, 4, 1, 5, 6, 1, 8, 9, 1, 11, 12, 0, 0, 14, 15]\n",
    "frametime = 0.05\n",
    "\n",
    "FIRST_VALID = False\n",
    "\n",
    "anim_data = []\n",
    "\n",
    "for idx, frame in enumerate(valid_frames):\n",
    "    frame_keypoints = frame['body_list'][0]['keypoint']\n",
    "    if not np.any(np.isnan(frame_keypoints)):\n",
    "        # Full frame is valid, yay! (which means all keypoints got detected)\n",
    "        anim_data.append(frame_keypoints)\n",
    "        FIRST_VALID = True\n",
    "    else:\n",
    "        if FIRST_VALID: # we need at least one first fully valid frame... then hopefully we'll interpolate\n",
    "            anim_data.append(frame_keypoints)\n",
    "anim_data = np.array(anim_data)\n",
    "print(anim_data.shape)"
   ]
  },
  {
   "cell_type": "code",
   "execution_count": 92,
   "metadata": {},
   "outputs": [
    {
     "name": "stdout",
     "output_type": "stream",
     "text": [
      "(697, 18, 2)\n"
     ]
    }
   ],
   "source": [
    "FIRST_VALID = False\n",
    "\n",
    "anim_data2d = []\n",
    "\n",
    "for idx, frame in enumerate(valid_frames):\n",
    "    frame_keypoints = frame['body_list'][0]['keypoint_2d']\n",
    "    if not np.any(np.isnan(frame_keypoints)):\n",
    "        # Full frame is valid, yay! (which means all keypoints got detected)\n",
    "        anim_data2d.append(frame_keypoints)\n",
    "        FIRST_VALID = True\n",
    "    else:\n",
    "        if FIRST_VALID: # we need at least one first fully valid frame... then hopefully we'll interpolate\n",
    "            anim_data2d.append(frame_keypoints)\n",
    "anim_data2d = np.array(anim_data2d)\n",
    "print(anim_data2d.shape)"
   ]
  },
  {
   "cell_type": "code",
   "execution_count": 90,
   "metadata": {},
   "outputs": [
    {
     "data": {
      "text/plain": [
       "[[-1.0, -1.0],\n",
       " [744.79736328125, -48.17592239379883],\n",
       " [-1.0, -1.0],\n",
       " [-1.0, -1.0],\n",
       " [-1.0, -1.0],\n",
       " [973.8108520507812, -46.3741340637207],\n",
       " [1046.57763671875, 313.30377197265625],\n",
       " [1202.451416015625, 667.1007690429688],\n",
       " [592.84521484375, 587.8441772460938],\n",
       " [-1.0, -1.0],\n",
       " [-1.0, -1.0],\n",
       " [808.658203125, 596.7001342773438],\n",
       " [-1.0, -1.0],\n",
       " [-1.0, -1.0],\n",
       " [-1.0, -1.0],\n",
       " [-1.0, -1.0],\n",
       " [-1.0, -1.0],\n",
       " [-1.0, -1.0]]"
      ]
     },
     "execution_count": 90,
     "metadata": {},
     "output_type": "execute_result"
    }
   ],
   "source": [
    "frame['body_list'][0]['keypoint_2d']"
   ]
  },
  {
   "cell_type": "markdown",
   "metadata": {},
   "source": [
    "## Interpolate missing data"
   ]
  },
  {
   "cell_type": "code",
   "execution_count": 84,
   "metadata": {},
   "outputs": [],
   "source": [
    "def interpolate_nan(data):\n",
    "    \"\"\"\n",
    "    Linearly interpolates over NaN values in a 2D array.\n",
    "\n",
    "    Args:\n",
    "        data (np.ndarray): Input array of shape (timesteps, channels)\n",
    "                           with NaN representing missing values.\n",
    "\n",
    "    Returns:\n",
    "        np.ndarray: The array with NaN values replaced by interpolated values.\n",
    "    \"\"\"\n",
    "    # Iterate over each channel\n",
    "    for channel in range(data.shape[1]):\n",
    "        # Extract the 1D array for this channel\n",
    "        values = data[:, channel]\n",
    "\n",
    "        # Identify indices of valid (non-NaN) and invalid (NaN) values\n",
    "        valid = np.where(~np.isnan(values))[0]\n",
    "        invalid = np.where(np.isnan(values))[0]\n",
    "\n",
    "        # Perform linear interpolation only if there are NaNs\n",
    "        if invalid.size > 0:\n",
    "            # Interpolate the missing values using np.interp\n",
    "            values[invalid] = np.interp(invalid, valid, values[valid])\n",
    "\n",
    "    return data\n",
    "\n",
    "interp_anim_data = interpolate_nan(anim_data.reshape(anim_data.shape[0], -1))"
   ]
  },
  {
   "cell_type": "code",
   "execution_count": 87,
   "metadata": {},
   "outputs": [],
   "source": [
    "motion = {\n",
    "    'joints_name': joints_name,\n",
    "    'parents': parents,\n",
    "    'frametime': frametime,\n",
    "    'anim_data' : interp_anim_data.reshape(anim_data.shape[0], -1, 3).tolist()\n",
    "}\n",
    "with open(\"test_motion.json\", \"w\") as fp:\n",
    "    json.dump(motion, fp, indent=4)"
   ]
  },
  {
   "cell_type": "code",
   "execution_count": 91,
   "metadata": {},
   "outputs": [
    {
     "ename": "NameError",
     "evalue": "name 'camera_info' is not defined",
     "output_type": "error",
     "traceback": [
      "\u001b[1;31m---------------------------------------------------------------------------\u001b[0m",
      "\u001b[1;31mNameError\u001b[0m                                 Traceback (most recent call last)",
      "Cell \u001b[1;32mIn[91], line 10\u001b[0m\n\u001b[0;32m      8\u001b[0m \u001b[38;5;66;03m# Create OpenGL viewer\u001b[39;00m\n\u001b[0;32m      9\u001b[0m viewer \u001b[38;5;241m=\u001b[39m gl\u001b[38;5;241m.\u001b[39mGLViewer()\n\u001b[1;32m---> 10\u001b[0m viewer\u001b[38;5;241m.\u001b[39minit(\u001b[43mcamera_info\u001b[49m\u001b[38;5;241m.\u001b[39mcamera_configuration\u001b[38;5;241m.\u001b[39mcalibration_parameters\u001b[38;5;241m.\u001b[39mleft_cam, body_param\u001b[38;5;241m.\u001b[39menable_tracking,body_param\u001b[38;5;241m.\u001b[39mbody_format)\n\u001b[0;32m     11\u001b[0m \u001b[38;5;66;03m# Create ZED objects filled in the main loop\u001b[39;00m\n\u001b[0;32m     12\u001b[0m bodies \u001b[38;5;241m=\u001b[39m sl\u001b[38;5;241m.\u001b[39mBodies()\n",
      "\u001b[1;31mNameError\u001b[0m: name 'camera_info' is not defined"
     ]
    }
   ],
   "source": [
    "import cv2\n",
    "import sys\n",
    "import pyzed.sl as sl\n",
    "import ogl_viewer.viewer as gl\n",
    "import cv_viewer.tracking_viewer as cv_viewer\n",
    "\n",
    "\n",
    "# Create OpenGL viewer\n",
    "viewer = gl.GLViewer()\n",
    "# viewer.init(camera_info.camera_configuration.calibration_parameters.left_cam, body_param.enable_tracking, body_param.body_format)\n",
    "# Create ZED objects filled in the main loop\n",
    "bodies = sl.Bodies()\n",
    "image = sl.Mat()\n",
    "key_wait = 10\n",
    "\n",
    "frame_idx = 0\n",
    "while viewer.is_available():\n",
    "    # Grab an image\n",
    "    img = anim_data2d[frame_idx % anim_data2d.shape[0]]\n",
    "    frame_idx += 1\n",
    "\n",
    "    # Retrieve left image\n",
    "    # zed.retrieve_image(image, sl.VIEW.LEFT, sl.MEM.CPU, display_resolution)\n",
    "    # Retrieve bodies\n",
    "    # zed.retrieve_bodies(bodies, body_runtime_param)\n",
    "    # Update GL view\n",
    "    # viewer.update_view(image, bodies)\n",
    "    # # Update OCV view\n",
    "    # image_left_ocv = image.get_data()\n",
    "    # cv_viewer.render_2D(image_left_ocv, image_scale, bodies.body_list, body_param.enable_tracking, body_param.body_format)\n",
    "    # cv2.imshow(\"ZED | 2D View\", image_left_ocv)\n",
    "\n",
    "viewer.exit()\n",
    "image.free(sl.MEM.CPU)\n",
    "\n",
    "cv2.destroyAllWindows()"
   ]
  }
 ],
 "metadata": {
  "kernelspec": {
   "display_name": "zed",
   "language": "python",
   "name": "python3"
  },
  "language_info": {
   "codemirror_mode": {
    "name": "ipython",
    "version": 3
   },
   "file_extension": ".py",
   "mimetype": "text/x-python",
   "name": "python",
   "nbconvert_exporter": "python",
   "pygments_lexer": "ipython3",
   "version": "3.8.20"
  }
 },
 "nbformat": 4,
 "nbformat_minor": 2
}
